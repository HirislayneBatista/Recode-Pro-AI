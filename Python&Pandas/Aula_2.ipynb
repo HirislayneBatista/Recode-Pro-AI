{
 "cells": [
  {
   "cell_type": "code",
   "execution_count": null,
   "metadata": {},
   "outputs": [],
   "source": [
    "import pandas as pd"
   ]
  },
  {
   "cell_type": "markdown",
   "metadata": {},
   "source": [
    "Exercícios Práticos"
   ]
  },
  {
   "cell_type": "markdown",
   "metadata": {},
   "source": [
    "1️ - Crie um DataFrame com estatísticas de 6 times, incluindo pontos, vitórias e saldo de gols."
   ]
  },
  {
   "cell_type": "code",
   "execution_count": 3,
   "metadata": {},
   "outputs": [
    {
     "data": {
      "text/html": [
       "<div>\n",
       "<style scoped>\n",
       "    .dataframe tbody tr th:only-of-type {\n",
       "        vertical-align: middle;\n",
       "    }\n",
       "\n",
       "    .dataframe tbody tr th {\n",
       "        vertical-align: top;\n",
       "    }\n",
       "\n",
       "    .dataframe thead th {\n",
       "        text-align: right;\n",
       "    }\n",
       "</style>\n",
       "<table border=\"1\" class=\"dataframe\">\n",
       "  <thead>\n",
       "    <tr style=\"text-align: right;\">\n",
       "      <th></th>\n",
       "      <th>Time</th>\n",
       "      <th>Pontos</th>\n",
       "      <th>Vitórias</th>\n",
       "      <th>Saldo de Gols</th>\n",
       "    </tr>\n",
       "  </thead>\n",
       "  <tbody>\n",
       "    <tr>\n",
       "      <th>0</th>\n",
       "      <td>Time A</td>\n",
       "      <td>60</td>\n",
       "      <td>20</td>\n",
       "      <td>30</td>\n",
       "    </tr>\n",
       "    <tr>\n",
       "      <th>1</th>\n",
       "      <td>Time B</td>\n",
       "      <td>55</td>\n",
       "      <td>18</td>\n",
       "      <td>25</td>\n",
       "    </tr>\n",
       "    <tr>\n",
       "      <th>2</th>\n",
       "      <td>Time C</td>\n",
       "      <td>48</td>\n",
       "      <td>14</td>\n",
       "      <td>10</td>\n",
       "    </tr>\n",
       "    <tr>\n",
       "      <th>3</th>\n",
       "      <td>Time D</td>\n",
       "      <td>72</td>\n",
       "      <td>22</td>\n",
       "      <td>40</td>\n",
       "    </tr>\n",
       "    <tr>\n",
       "      <th>4</th>\n",
       "      <td>Time E</td>\n",
       "      <td>51</td>\n",
       "      <td>16</td>\n",
       "      <td>15</td>\n",
       "    </tr>\n",
       "    <tr>\n",
       "      <th>5</th>\n",
       "      <td>Time F</td>\n",
       "      <td>68</td>\n",
       "      <td>20</td>\n",
       "      <td>35</td>\n",
       "    </tr>\n",
       "  </tbody>\n",
       "</table>\n",
       "</div>"
      ],
      "text/plain": [
       "     Time  Pontos  Vitórias  Saldo de Gols\n",
       "0  Time A      60        20             30\n",
       "1  Time B      55        18             25\n",
       "2  Time C      48        14             10\n",
       "3  Time D      72        22             40\n",
       "4  Time E      51        16             15\n",
       "5  Time F      68        20             35"
      ]
     },
     "execution_count": 3,
     "metadata": {},
     "output_type": "execute_result"
    }
   ],
   "source": [
    "data = {\n",
    "    'Time': ['Time A', 'Time B', 'Time C', 'Time D', 'Time E', 'Time F'],\n",
    "    'Pontos': [60, 55, 48, 72, 51, 68],\n",
    "    'Vitórias': [20, 18, 14, 22, 16, 20],\n",
    "    'Saldo de Gols': [30, 25, 10, 40, 15, 35]\n",
    "}\n",
    " \n",
    "df = pd.DataFrame(data)\n",
    "df"
   ]
  },
  {
   "cell_type": "markdown",
   "metadata": {},
   "source": [
    "2️ - Filtre os times que possuem mais de 50 pontos e saldo de gols positivo."
   ]
  },
  {
   "cell_type": "code",
   "execution_count": 4,
   "metadata": {},
   "outputs": [
    {
     "name": "stdout",
     "output_type": "stream",
     "text": [
      "Times com mais de 50 pontos e saldo de gols positivo:\n",
      "      Time  Pontos  Vitórias  Saldo de Gols\n",
      "0  Time A      60        20             30\n",
      "1  Time B      55        18             25\n",
      "3  Time D      72        22             40\n",
      "4  Time E      51        16             15\n",
      "5  Time F      68        20             35\n"
     ]
    }
   ],
   "source": [
    "df_filtrado = df[(df['Pontos'] > 50) & (df['Saldo de Gols'] > 0)]\n",
    "print(\"Times com mais de 50 pontos e saldo de gols positivo:\\n\", df_filtrado)"
   ]
  },
  {
   "cell_type": "markdown",
   "metadata": {},
   "source": [
    "3️ - Ordene os times pelo número de vitórias, do maior para o menor."
   ]
  },
  {
   "cell_type": "code",
   "execution_count": 5,
   "metadata": {},
   "outputs": [
    {
     "name": "stdout",
     "output_type": "stream",
     "text": [
      "\n",
      "Times ordenados por vitórias:\n",
      "      Time  Pontos  Vitórias  Saldo de Gols\n",
      "3  Time D      72        22             40\n",
      "0  Time A      60        20             30\n",
      "5  Time F      68        20             35\n",
      "1  Time B      55        18             25\n",
      "4  Time E      51        16             15\n",
      "2  Time C      48        14             10\n"
     ]
    }
   ],
   "source": [
    "df_ordenado = df.sort_values(by='Vitórias', ascending=False)\n",
    "print(\"\\nTimes ordenados por vitórias:\\n\", df_ordenado)"
   ]
  },
  {
   "cell_type": "markdown",
   "metadata": {},
   "source": [
    "4️ - Adicione uma nova coluna chamada \"Aproveitamento (%)\" baseada no total de pontos."
   ]
  },
  {
   "cell_type": "code",
   "execution_count": 6,
   "metadata": {},
   "outputs": [
    {
     "name": "stdout",
     "output_type": "stream",
     "text": [
      "\n",
      "DataFrame com a coluna 'Aproveitamento (%)':\n",
      "      Time  Pontos  Vitórias  Saldo de Gols  Aproveitamento (%)\n",
      "0  Time A      60        20             30           66.666667\n",
      "1  Time B      55        18             25           61.111111\n",
      "2  Time C      48        14             10           53.333333\n",
      "3  Time D      72        22             40           80.000000\n",
      "4  Time E      51        16             15           56.666667\n",
      "5  Time F      68        20             35           75.555556\n"
     ]
    }
   ],
   "source": [
    "total_jogos = 30\n",
    "df['Aproveitamento (%)'] = (df['Pontos'] / (total_jogos * 3)) * 100\n",
    "print(\"\\nDataFrame com a coluna 'Aproveitamento (%)':\\n\", df)"
   ]
  }
 ],
 "metadata": {
  "kernelspec": {
   "display_name": "base",
   "language": "python",
   "name": "python3"
  },
  "language_info": {
   "codemirror_mode": {
    "name": "ipython",
    "version": 3
   },
   "file_extension": ".py",
   "mimetype": "text/x-python",
   "name": "python",
   "nbconvert_exporter": "python",
   "pygments_lexer": "ipython3",
   "version": "3.12.4"
  }
 },
 "nbformat": 4,
 "nbformat_minor": 2
}
