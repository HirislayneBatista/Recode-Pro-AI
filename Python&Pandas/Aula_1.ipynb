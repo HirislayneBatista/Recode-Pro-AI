{
 "cells": [
  {
   "cell_type": "code",
   "execution_count": null,
   "metadata": {},
   "outputs": [],
   "source": [
    "import pandas as pd"
   ]
  },
  {
   "cell_type": "markdown",
   "metadata": {},
   "source": [
    "#Estrutura de dados"
   ]
  },
  {
   "cell_type": "markdown",
   "metadata": {},
   "source": [
    "Series: estrutura de dados unidimensional, semelhante a uma lista ou array, mas com recursos adicionais. Ela armazena uma sequência de valores de um único tipo de dado (numérico, texto, booleano etc.) associados a um índice (rótulos)."
   ]
  },
  {
   "cell_type": "code",
   "execution_count": 8,
   "metadata": {},
   "outputs": [
    {
     "data": {
      "text/plain": [
       "Rodada 1    2\n",
       "Rodada 2    4\n",
       "Rodada 3    1\n",
       "Rodada 4    5\n",
       "Rodada 5    2\n",
       "dtype: int64"
      ]
     },
     "execution_count": 8,
     "metadata": {},
     "output_type": "execute_result"
    }
   ],
   "source": [
    "# Exemplo\n",
    "gols = [2, 4, 1, 5, 2]\n",
    "indice = [\"Rodada 1\", \"Rodada 2\", \"Rodada 3\", \"Rodada 4\", \"Rodada 5\"]\n",
    "serie = pd.Series(gols, index = indice)\n",
    "serie"
   ]
  },
  {
   "cell_type": "code",
   "execution_count": null,
   "metadata": {},
   "outputs": [],
   "source": []
  },
  {
   "cell_type": "markdown",
   "metadata": {},
   "source": [
    "DataFrames:  estrutura de dados bidimensional, como uma tabela, com linhas e colunas. Cada coluna pode conter um tipo de dado diferente, e as linhas são identificadas por um índice. "
   ]
  },
  {
   "cell_type": "code",
   "execution_count": null,
   "metadata": {},
   "outputs": [
    {
     "name": "stdout",
     "output_type": "stream",
     "text": [
      "          Time  Vitórias  Empates  Derrotas\n",
      "0     Flamengo        18        5         5\n",
      "1    Palmeiras        16        7         6\n",
      "2    São Paulo        14        9         7\n",
      "3  Corinthians        12       10         8\n"
     ]
    }
   ],
   "source": [
    "# Exemplo \n",
    "dados = { \n",
    "' Time': ['Flamengo', 'Palmeiras', 'São Paulo', 'Corinthians'], \n",
    "'Vitórias': [18, 16, 14, 12], \n",
    "'Empates': [5, 7, 9, 10], \n",
    "'Derrotas': [5, 6, 7, 8] \n",
    "} \n",
    "\n",
    "df = pd.DataFrame (dados) \n",
    "display(df)"
   ]
  },
  {
   "cell_type": "code",
   "execution_count": 7,
   "metadata": {},
   "outputs": [
    {
     "data": {
      "text/html": [
       "<div>\n",
       "<style scoped>\n",
       "    .dataframe tbody tr th:only-of-type {\n",
       "        vertical-align: middle;\n",
       "    }\n",
       "\n",
       "    .dataframe tbody tr th {\n",
       "        vertical-align: top;\n",
       "    }\n",
       "\n",
       "    .dataframe thead th {\n",
       "        text-align: right;\n",
       "    }\n",
       "</style>\n",
       "<table border=\"1\" class=\"dataframe\">\n",
       "  <thead>\n",
       "    <tr style=\"text-align: right;\">\n",
       "      <th></th>\n",
       "      <th>Indice</th>\n",
       "      <th>A</th>\n",
       "      <th>B</th>\n",
       "      <th>C</th>\n",
       "    </tr>\n",
       "  </thead>\n",
       "  <tbody>\n",
       "    <tr>\n",
       "      <th>0</th>\n",
       "      <td>1</td>\n",
       "      <td>Ana</td>\n",
       "      <td>Ana</td>\n",
       "      <td>Ana</td>\n",
       "    </tr>\n",
       "    <tr>\n",
       "      <th>1</th>\n",
       "      <td>2</td>\n",
       "      <td>Joao</td>\n",
       "      <td>Joao</td>\n",
       "      <td>Joao</td>\n",
       "    </tr>\n",
       "    <tr>\n",
       "      <th>2</th>\n",
       "      <td>3</td>\n",
       "      <td>Pedro</td>\n",
       "      <td>Pedro</td>\n",
       "      <td>Pedro</td>\n",
       "    </tr>\n",
       "    <tr>\n",
       "      <th>3</th>\n",
       "      <td>4</td>\n",
       "      <td>Marcos</td>\n",
       "      <td>Marcos</td>\n",
       "      <td>Marcos</td>\n",
       "    </tr>\n",
       "  </tbody>\n",
       "</table>\n",
       "</div>"
      ],
      "text/plain": [
       "   Indice       A       B       C\n",
       "0       1     Ana     Ana     Ana\n",
       "1       2    Joao    Joao    Joao\n",
       "2       3   Pedro   Pedro   Pedro\n",
       "3       4  Marcos  Marcos  Marcos"
      ]
     },
     "execution_count": 7,
     "metadata": {},
     "output_type": "execute_result"
    }
   ],
   "source": [
    "df = pd.read_csv(\"C:/Users/Ser Terráqueo/Documents/RECODE PRO AI/Modulo 3/Python&Pandas/Tabela_Teste.csv\")\n",
    "df"
   ]
  },
  {
   "cell_type": "code",
   "execution_count": 9,
   "metadata": {},
   "outputs": [
    {
     "data": {
      "text/plain": [
       "0       Ana\n",
       "1      Joao\n",
       "2     Pedro\n",
       "3    Marcos\n",
       "Name: A, dtype: object"
      ]
     },
     "execution_count": 9,
     "metadata": {},
     "output_type": "execute_result"
    }
   ],
   "source": [
    "A = df[\"A\"]\n",
    "A.to_csv('A.csv', index=False)\n",
    "A"
   ]
  }
 ],
 "metadata": {
  "kernelspec": {
   "display_name": "base",
   "language": "python",
   "name": "python3"
  },
  "language_info": {
   "codemirror_mode": {
    "name": "ipython",
    "version": 3
   },
   "file_extension": ".py",
   "mimetype": "text/x-python",
   "name": "python",
   "nbconvert_exporter": "python",
   "pygments_lexer": "ipython3",
   "version": "3.12.4"
  }
 },
 "nbformat": 4,
 "nbformat_minor": 2
}
